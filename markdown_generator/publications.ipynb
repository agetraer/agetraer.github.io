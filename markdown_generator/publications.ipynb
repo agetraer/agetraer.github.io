{
 "cells": [
  {
   "cell_type": "markdown",
   "metadata": {
    "deletable": true,
    "editable": true
   },
   "source": [
    "# Publications markdown generator for academicpages\n",
    "\n",
    "Takes a TSV of publications with metadata and converts them for use with [academicpages.github.io](academicpages.github.io). This is an interactive Jupyter notebook ([see more info here](http://jupyter-notebook-beginner-guide.readthedocs.io/en/latest/what_is_jupyter.html)). The core python code is also in `publications.py`. Run either from the `markdown_generator` folder after replacing `publications.tsv` with one containing your data.\n",
    "\n",
    "TODO: Make this work with BibTex and other databases of citations, rather than Stuart's non-standard TSV format and citation style.\n"
   ]
  },
  {
   "cell_type": "markdown",
   "metadata": {},
   "source": [
    "## Data format\n",
    "\n",
    "The TSV needs to have the following columns: pub_date, title, venue, excerpt, citation, site_url, and paper_url, with a header at the top. \n",
    "\n",
    "- `excerpt` and `paper_url` can be blank, but the others must have values. \n",
    "- `pub_date` must be formatted as YYYY-MM-DD.\n",
    "- `url_slug` will be the descriptive part of the .md file and the permalink URL for the page about the paper. The .md file will be `YYYY-MM-DD-[url_slug].md` and the permalink will be `https://[yourdomain]/publications/YYYY-MM-DD-[url_slug]`\n",
    "\n",
    "This is how the raw file looks (it doesn't look pretty, use a spreadsheet or other program to edit and create)."
   ]
  },
  {
   "cell_type": "code",
   "execution_count": 136,
   "metadata": {
    "collapsed": false
   },
   "outputs": [
    {
     "name": "stderr",
     "output_type": "stream",
     "text": [
      "58089.14s - pydevd: Sending message related to process being replaced timed-out after 5 seconds\n"
     ]
    },
    {
     "name": "stdout",
     "output_type": "stream",
     "text": [
      "pub_date\ttitle\tvenue\tauthors\texcerpt\tabstract\tcitation\turl_slug\tpdf_url\tdoi\tpaper_url\n",
      "2021-01-19\tClimate-Driven Variability in Runoff Erosion Encoded in Stream Network Geometry\tGeophysical Research Letters\tAlexander Getraer and Adam C. Maloof\t\tClimate signatures recorded in the geometry of branching streams provide insight into climate and landscape histories on Earth and other planetary bodies. Recent findings establish that branching angles are narrower and stream profiles are straighter in more arid climates. However, these two observations have been attributed to different mechanisms. Here we demonstrate that for US watersheds the difference in slope between confluent streams increases with humidity, and streams with a greater difference in slope tend to branch at wider angles. Our observations suggest a branching angle endmember of 90\\u00B0 when stream slopes are most different. Using a simple model of runoff erosion, we show how this variation in relative stream slopes can be explained by a shift in streamflow accumulation across climate regimes. These findings connect previously observed climate signatures in branching angles and stream profiles, suggesting that both record the same control of aridity on surface flow.\tGetraer, A., & Maloof, A. C. (2021). Climate-Driven Variability in Runoff Erosion Encoded in Stream Network Geometry. <i>Geophysical Research Letters, 48</i>, e2020GL091777. https://doi.org/10.1029/2020GL091777\tGetraer-Maloof-2021\thttp://agetraer.github.io/files/Getraer-Maloof-2021.pdf\t10.1029/2020GL091777\thttps://doi.org/10.1029/2020GL091777\n",
      "2024-12-20\tLimits to timescale dependence in erosion rates: Quantifying glacial and fluvial erosion across timescales\tScience Advances\tJoel A. Wilner, Bailey J Nordin, Alexander Getraer, Rowan M. Gregoire, Mansa Krishna, Jiawen Li, Derek J. Pickell, Emma R. Rogers, Kalin T. McDannell, Marisa C. Palucis, and C. Brenhin Keller\t\tEarth's topography and climate result from the competition between uplift and erosion, but it has been debated whether rivers or glaciers are more effective erosional agents. We present a global compilation of fluvial and glacial erosion rates alongside simple numerical experiments, which show that the \"Sadler effect,\" wherein geological rates show an inverse relationship with measurement timescale, comprises three distinct effects: a measurement thickness bias, a bias of erosion and redeposition, and a bias introduced by not observing quiescent intervals. Furthermore, we find that, globally, average glacial erosion rates exceed fluvial erosion rates through time by an order of magnitude, and that this difference cannot be explained by Sadlerian biases or by variations in hillslope, precipitation, or latitude. These findings support observations of increased erosion rates following Cenozoic cooling and glaciation, and reveal the importance of glacial erosion over millennial to orogenic timescales.\tWilner, J. A., Nordin, B. J., Getraer, A., Gregoire, R. M., Krishna, M., Li, J., et al. (2024). Limits to timescale dependence in erosion rates: Quantifying glacial and fluvial erosion across timescales. <i>Science Advances, 10</i>, eadr2009. https://doi.org/10.1126/sciadv.adr2009\tWilner-etal-2024\thttp://agetraer.github.io/files/Wilner-etal-2024.pdf\t10.1126/sciadv.adr2009\thttps://doi.org/10.1126/sciadv.adr2009"
     ]
    }
   ],
   "source": [
    "!cat publications.tsv"
   ]
  },
  {
   "cell_type": "markdown",
   "metadata": {},
   "source": [
    "## Import pandas\n",
    "\n",
    "We are using the very handy pandas library for dataframes."
   ]
  },
  {
   "cell_type": "code",
   "execution_count": 137,
   "metadata": {
    "collapsed": true,
    "deletable": true,
    "editable": true
   },
   "outputs": [],
   "source": [
    "import pandas as pd"
   ]
  },
  {
   "cell_type": "markdown",
   "metadata": {},
   "source": [
    "## Import TSV\n",
    "\n",
    "Pandas makes this easy with the read_csv function. We are using a TSV, so we specify the separator as a tab, or `\\t`.\n",
    "\n",
    "I found it important to put this data in a tab-separated values format, because there are a lot of commas in this kind of data and comma-separated values can get messed up. However, you can modify the import statement, as pandas also has read_excel(), read_json(), and others."
   ]
  },
  {
   "cell_type": "code",
   "execution_count": 138,
   "metadata": {
    "collapsed": false,
    "deletable": true,
    "editable": true
   },
   "outputs": [
    {
     "data": {
      "text/html": [
       "<div>\n",
       "<style scoped>\n",
       "    .dataframe tbody tr th:only-of-type {\n",
       "        vertical-align: middle;\n",
       "    }\n",
       "\n",
       "    .dataframe tbody tr th {\n",
       "        vertical-align: top;\n",
       "    }\n",
       "\n",
       "    .dataframe thead th {\n",
       "        text-align: right;\n",
       "    }\n",
       "</style>\n",
       "<table border=\"1\" class=\"dataframe\">\n",
       "  <thead>\n",
       "    <tr style=\"text-align: right;\">\n",
       "      <th></th>\n",
       "      <th>pub_date</th>\n",
       "      <th>title</th>\n",
       "      <th>venue</th>\n",
       "      <th>authors</th>\n",
       "      <th>excerpt</th>\n",
       "      <th>abstract</th>\n",
       "      <th>citation</th>\n",
       "      <th>url_slug</th>\n",
       "      <th>pdf_url</th>\n",
       "      <th>doi</th>\n",
       "      <th>paper_url</th>\n",
       "    </tr>\n",
       "  </thead>\n",
       "  <tbody>\n",
       "    <tr>\n",
       "      <th>0</th>\n",
       "      <td>2021-01-19</td>\n",
       "      <td>Climate-Driven Variability in Runoff Erosion E...</td>\n",
       "      <td>Geophysical Research Letters</td>\n",
       "      <td>Alexander Getraer and Adam C. Maloof</td>\n",
       "      <td>NaN</td>\n",
       "      <td>Climate signatures recorded in the geometry of...</td>\n",
       "      <td>Getraer, A., &amp; Maloof, A. C. (2021). Climate-D...</td>\n",
       "      <td>Getraer-Maloof-2021</td>\n",
       "      <td>http://agetraer.github.io/files/Getraer-Maloof...</td>\n",
       "      <td>10.1029/2020GL091777</td>\n",
       "      <td>https://doi.org/10.1029/2020GL091777</td>\n",
       "    </tr>\n",
       "    <tr>\n",
       "      <th>1</th>\n",
       "      <td>2024-12-20</td>\n",
       "      <td>Limits to timescale dependence in erosion rate...</td>\n",
       "      <td>Science Advances</td>\n",
       "      <td>Joel A. Wilner, Bailey J Nordin, Alexander Get...</td>\n",
       "      <td>NaN</td>\n",
       "      <td>Earth's topography and climate result from the...</td>\n",
       "      <td>Wilner, J. A., Nordin, B. J., Getraer, A., Gre...</td>\n",
       "      <td>Wilner-etal-2024</td>\n",
       "      <td>http://agetraer.github.io/files/Wilner-etal-20...</td>\n",
       "      <td>10.1126/sciadv.adr2009</td>\n",
       "      <td>https://doi.org/10.1126/sciadv.adr2009</td>\n",
       "    </tr>\n",
       "  </tbody>\n",
       "</table>\n",
       "</div>"
      ],
      "text/plain": [
       "     pub_date                                              title  \\\n",
       "0  2021-01-19  Climate-Driven Variability in Runoff Erosion E...   \n",
       "1  2024-12-20  Limits to timescale dependence in erosion rate...   \n",
       "\n",
       "                          venue  \\\n",
       "0  Geophysical Research Letters   \n",
       "1              Science Advances   \n",
       "\n",
       "                                             authors  excerpt  \\\n",
       "0               Alexander Getraer and Adam C. Maloof      NaN   \n",
       "1  Joel A. Wilner, Bailey J Nordin, Alexander Get...      NaN   \n",
       "\n",
       "                                            abstract  \\\n",
       "0  Climate signatures recorded in the geometry of...   \n",
       "1  Earth's topography and climate result from the...   \n",
       "\n",
       "                                            citation             url_slug  \\\n",
       "0  Getraer, A., & Maloof, A. C. (2021). Climate-D...  Getraer-Maloof-2021   \n",
       "1  Wilner, J. A., Nordin, B. J., Getraer, A., Gre...     Wilner-etal-2024   \n",
       "\n",
       "                                             pdf_url                     doi  \\\n",
       "0  http://agetraer.github.io/files/Getraer-Maloof...    10.1029/2020GL091777   \n",
       "1  http://agetraer.github.io/files/Wilner-etal-20...  10.1126/sciadv.adr2009   \n",
       "\n",
       "                                paper_url  \n",
       "0    https://doi.org/10.1029/2020GL091777  \n",
       "1  https://doi.org/10.1126/sciadv.adr2009  "
      ]
     },
     "execution_count": 138,
     "metadata": {},
     "output_type": "execute_result"
    }
   ],
   "source": [
    "publications = pd.read_csv(\"publications.tsv\", sep=\"\\t\", header=0,encoding='unicode_escape')\n",
    "publications\n"
   ]
  },
  {
   "cell_type": "markdown",
   "metadata": {},
   "source": [
    "## Escape special characters\n",
    "\n",
    "YAML is very picky about how it takes a valid string, so we are replacing single and double quotes (and ampersands) with their HTML encoded equivilents. This makes them look not so readable in raw format, but they are parsed and rendered nicely."
   ]
  },
  {
   "cell_type": "code",
   "execution_count": 139,
   "metadata": {
    "collapsed": true,
    "deletable": true,
    "editable": true
   },
   "outputs": [],
   "source": [
    "html_escape_table = {\n",
    "    \"&\": \"&amp;\",\n",
    "    '\"': \"&quot;\",\n",
    "    \"'\": \"&apos;\"\n",
    "    }\n",
    "\n",
    "def html_escape(text):\n",
    "    \"Produce entities within text.\"\n",
    "    return \"\".join(html_escape_table.get(c,c) for c in text)"
   ]
  },
  {
   "cell_type": "markdown",
   "metadata": {},
   "source": [
    "## Creating the markdown files\n",
    "\n",
    "This is where the heavy lifting is done. This loops through all the rows in the TSV dataframe, then starts to concatentate a big string (```md```) that contains the markdown for each type. It does the YAML metadata first, then does the description for the individual page."
   ]
  },
  {
   "cell_type": "code",
   "execution_count": 148,
   "metadata": {
    "collapsed": false,
    "deletable": true,
    "editable": true
   },
   "outputs": [],
   "source": [
    "import os\n",
    "for row, item in publications.iterrows():\n",
    "    \n",
    "    md_filename = str(item.pub_date) + \"-\" + item.url_slug + \".md\"\n",
    "    html_filename = str(item.pub_date) + \"-\" + item.url_slug\n",
    "    year = item.pub_date[:4]\n",
    "    \n",
    "    ## YAML variables\n",
    "    \n",
    "    md = \"---\\ntitle: \\\"\"   + item.title + \"\\\"\"\n",
    "    \n",
    "    md += \"\\nauthors: \" + item.authors\n",
    "\n",
    "    md += \"\\ncollection: publications\"\n",
    "\n",
    "    md += \"\\npdfurl: \" + item.pdf_url \n",
    "\n",
    "    md += \"\\npermalink: /publication/\" + html_filename\n",
    "    \n",
    "    if len(str(item.excerpt)) > 5:\n",
    "        md += \"\\nexcerpt: '\" + html_escape(item.excerpt) + \"'\"\n",
    "    \n",
    "    md += \"\\ndate: \" + str(item.pub_date) \n",
    "    \n",
    "    md += \"\\nvenue: '\" + html_escape(item.venue) + \"'\"\n",
    "\n",
    "    if len(str(item.paper_url)) > 5:\n",
    "        md += \"\\npaperurl: '\" + item.paper_url + \"'\"\n",
    "    \n",
    "    md += \"\\ncitation: '\" + html_escape(item.citation) + \"'\"\n",
    "    \n",
    "    md += \"\\n---\\n\\n------\\n\"\n",
    "    \n",
    "    ## Markdown description for individual page\n",
    "    \n",
    "    if len(str(item.abstract)) > 5:\n",
    "        md += \"\\n>Abstract: <br/>\" + html_escape(item.abstract) + \"\\n\"\n",
    "        \n",
    "    md += \"\\n Suggested citation: <br/>\" + item.citation\n",
    "    \n",
    "    md_filename = os.path.basename(md_filename)\n",
    "       \n",
    "    with open(\"../_publications/\" + md_filename, 'w') as f:\n",
    "        f.write(md)"
   ]
  },
  {
   "cell_type": "markdown",
   "metadata": {},
   "source": [
    "These files are in the publications directory, one directory below where we're working from."
   ]
  },
  {
   "cell_type": "code",
   "execution_count": 149,
   "metadata": {
    "collapsed": false,
    "deletable": true,
    "editable": true
   },
   "outputs": [
    {
     "name": "stderr",
     "output_type": "stream",
     "text": [
      "61933.82s - pydevd: Sending message related to process being replaced timed-out after 5 seconds\n"
     ]
    },
    {
     "name": "stdout",
     "output_type": "stream",
     "text": [
      "2021-01-19-Getraer-Maloof-2021.md 2024-12-20-Wilner-etal-2024.md\n"
     ]
    }
   ],
   "source": [
    "!ls ../_publications/"
   ]
  }
 ],
 "metadata": {
  "kernelspec": {
   "display_name": "Python 3.9.15 ('base')",
   "language": "python",
   "name": "python3"
  },
  "language_info": {
   "codemirror_mode": {
    "name": "ipython",
    "version": 3
   },
   "file_extension": ".py",
   "mimetype": "text/x-python",
   "name": "python",
   "nbconvert_exporter": "python",
   "pygments_lexer": "ipython3",
   "version": "3.9.15"
  },
  "vscode": {
   "interpreter": {
    "hash": "6af37885853eb92a5afdba7d826d51786ef419385cb4884e8128661fd26f7238"
   }
  }
 },
 "nbformat": 4,
 "nbformat_minor": 0
}
